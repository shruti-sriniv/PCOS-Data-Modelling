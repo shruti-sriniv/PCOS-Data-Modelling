{
  "nbformat": 4,
  "nbformat_minor": 0,
  "metadata": {
    "colab": {
      "provenance": [],
      "authorship_tag": "ABX9TyNJHadzwlyFPiYxLpYqH+1L",
      "include_colab_link": true
    },
    "kernelspec": {
      "name": "python3",
      "display_name": "Python 3"
    },
    "language_info": {
      "name": "python"
    }
  },
  "cells": [
    {
      "cell_type": "markdown",
      "metadata": {
        "id": "view-in-github",
        "colab_type": "text"
      },
      "source": [
        "<a href=\"https://colab.research.google.com/github/shruti-sriniv/PCOS-Data-Modelling/blob/main/model.ipynb\" target=\"_parent\"><img src=\"https://colab.research.google.com/assets/colab-badge.svg\" alt=\"Open In Colab\"/></a>"
      ]
    },
    {
      "cell_type": "code",
      "source": [
        "# Importing the necessary modules in python\n",
        "import numpy as np\n",
        "import pandas as pd\n",
        "import os"
      ],
      "metadata": {
        "id": "NhHLlRSvTkfw"
      },
      "execution_count": 2,
      "outputs": []
    },
    {
      "cell_type": "code",
      "source": [
        "symptoms_df = pd.read_csv('PCOS_extended_dataset.csv')\n",
        "print(symptoms_df.head(10))"
      ],
      "metadata": {
        "colab": {
          "base_uri": "https://localhost:8080/"
        },
        "id": "eRRvYUcmTmRQ",
        "outputId": "e26dae55-f563-47f7-b37b-8edcfb6124e5"
      },
      "execution_count": 4,
      "outputs": [
        {
          "output_type": "stream",
          "name": "stdout",
          "text": [
            "   Sl. No  Patient File No.  PCOS (Y/N)   Age (yrs)  Weight (Kg)  Height(Cm)   \\\n",
            "0     193               193           0          30    69.979147   167.708055   \n",
            "1     360               360           0          36    63.711688   154.055877   \n",
            "2      10                10           0          36    51.848631   149.059804   \n",
            "3     278               278           1          29    66.893988   148.628036   \n",
            "4      71                71           0          33    52.536198   150.767409   \n",
            "5     473               473           1          26    67.408647   165.951097   \n",
            "6     397               397           0          31    68.703324   159.593469   \n",
            "7     315               315           1          34    52.659470   157.495627   \n",
            "8     487               487           1          30    49.764163   158.961647   \n",
            "9      88                88           0          40    57.576129   156.596777   \n",
            "\n",
            "         BMI  Blood Group  Pulse rate(bpm)   RR (breaths/min)  ...  \\\n",
            "0  23.185569           12                72                22  ...   \n",
            "1  25.441392           13                70                18  ...   \n",
            "2  23.928264           15                80                20  ...   \n",
            "3  27.894935           15                72                18  ...   \n",
            "4  23.079564           13                72                18  ...   \n",
            "5  25.582907           11                72                18  ...   \n",
            "6  27.318412           15                72                18  ...   \n",
            "7  21.512464           11                78                20  ...   \n",
            "8  19.116393           11                74                18  ...   \n",
            "9  23.227606           11                80                20  ...   \n",
            "\n",
            "   Pimples(Y/N)  Fast food (Y/N)  Reg.Exercise(Y/N)  BP _Systolic (mmHg)  \\\n",
            "0             1              0.0                  1           105.483401   \n",
            "1             1              0.0                  1           115.883740   \n",
            "2             0              0.0                  0           112.219711   \n",
            "3             0              0.0                  1           104.619624   \n",
            "4             0              0.0                  0            99.175454   \n",
            "5             1              1.0                  0           104.534763   \n",
            "6             1              0.0                  0           104.686254   \n",
            "7             1              1.0                  0           122.344192   \n",
            "8             0              1.0                  1           112.984942   \n",
            "9             0              0.0                  0           121.756683   \n",
            "\n",
            "   BP _Diastolic (mmHg)  Follicle No. (L)  Follicle No. (R)  \\\n",
            "0             76.096379                 2                 4   \n",
            "1             79.117243                 2                 3   \n",
            "2             80.919417                 1                 1   \n",
            "3             69.902681                 1                 1   \n",
            "4             70.330461                 5                 2   \n",
            "5             67.877522                12                14   \n",
            "6             78.572280                 4                 9   \n",
            "7             81.485462                 5                 5   \n",
            "8             83.469785                16                16   \n",
            "9             72.242461                11                 9   \n",
            "\n",
            "  Avg. F size (L) (mm)  Avg. F size (R) (mm)  Endometrium (mm)  \n",
            "0                 10.0                  13.0          6.176029  \n",
            "1                 13.0                  11.0          6.824718  \n",
            "2                 14.0                  17.0          2.568691  \n",
            "3                 12.0                  14.0          9.962732  \n",
            "4                 11.5                   4.7          6.655190  \n",
            "5                 19.0                  18.0          9.346737  \n",
            "6                 12.0                  15.0          6.737614  \n",
            "7                 12.0                  10.0         11.596253  \n",
            "8                 19.0                  19.0         10.648025  \n",
            "9                 17.0                  18.0          4.693380  \n",
            "\n",
            "[10 rows x 44 columns]\n"
          ]
        }
      ]
    },
    {
      "cell_type": "code",
      "source": [
        "# Adding in more import statements needed for visualization and model building\n",
        "import matplotlib.pyplot as plt\n",
        "import seaborn as sns\n",
        "from sklearn.model_selection import train_test_split\n",
        "from sklearn.ensemble import RandomForestClassifier\n",
        "from sklearn.metrics import accuracy_score\n",
        "from sklearn.model_selection import cross_val_score\n",
        "from sklearn.model_selection import GridSearchCV\n",
        "from sklearn.metrics import confusion_matrix\n",
        "from sklearn.metrics import classification_report"
      ],
      "metadata": {
        "id": "9XQI7K9FTmUf"
      },
      "execution_count": 5,
      "outputs": []
    },
    {
      "cell_type": "code",
      "source": [
        "symptoms_df.info()"
      ],
      "metadata": {
        "colab": {
          "base_uri": "https://localhost:8080/"
        },
        "id": "ZAzJjavkTmYG",
        "outputId": "fab632b0-db9b-4c5a-fa24-82799cc642ec"
      },
      "execution_count": 6,
      "outputs": [
        {
          "output_type": "stream",
          "name": "stdout",
          "text": [
            "<class 'pandas.core.frame.DataFrame'>\n",
            "RangeIndex: 2000 entries, 0 to 1999\n",
            "Data columns (total 44 columns):\n",
            " #   Column                  Non-Null Count  Dtype  \n",
            "---  ------                  --------------  -----  \n",
            " 0   Sl. No                  2000 non-null   int64  \n",
            " 1   Patient File No.        2000 non-null   int64  \n",
            " 2   PCOS (Y/N)              2000 non-null   int64  \n",
            " 3    Age (yrs)              2000 non-null   int64  \n",
            " 4   Weight (Kg)             2000 non-null   float64\n",
            " 5   Height(Cm)              2000 non-null   float64\n",
            " 6   BMI                     2000 non-null   float64\n",
            " 7   Blood Group             2000 non-null   int64  \n",
            " 8   Pulse rate(bpm)         2000 non-null   int64  \n",
            " 9   RR (breaths/min)        2000 non-null   int64  \n",
            " 10  Hb(g/dl)                2000 non-null   float64\n",
            " 11  Cycle(R/I)              2000 non-null   int64  \n",
            " 12  Cycle length(days)      2000 non-null   int64  \n",
            " 13  Marraige Status (Yrs)   1997 non-null   float64\n",
            " 14  Pregnant(Y/N)           2000 non-null   int64  \n",
            " 15  No. of abortions        2000 non-null   int64  \n",
            " 16    I   beta-HCG(mIU/mL)  2000 non-null   float64\n",
            " 17  II    beta-HCG(mIU/mL)  2000 non-null   object \n",
            " 18  FSH(mIU/mL)             2000 non-null   float64\n",
            " 19  LH(mIU/mL)              2000 non-null   float64\n",
            " 20  FSH/LH                  2000 non-null   float64\n",
            " 21  Hip(inch)               2000 non-null   int64  \n",
            " 22  Waist(inch)             2000 non-null   int64  \n",
            " 23  Waist:Hip Ratio         2000 non-null   float64\n",
            " 24  TSH (mIU/L)             2000 non-null   float64\n",
            " 25  AMH(ng/mL)              2000 non-null   object \n",
            " 26  PRL(ng/mL)              2000 non-null   float64\n",
            " 27  Vit D3 (ng/mL)          2000 non-null   float64\n",
            " 28  PRG(ng/mL)              2000 non-null   float64\n",
            " 29  RBS(mg/dl)              2000 non-null   float64\n",
            " 30  Weight gain(Y/N)        2000 non-null   int64  \n",
            " 31  hair growth(Y/N)        2000 non-null   int64  \n",
            " 32  Skin darkening (Y/N)    2000 non-null   int64  \n",
            " 33  Hair loss(Y/N)          2000 non-null   int64  \n",
            " 34  Pimples(Y/N)            2000 non-null   int64  \n",
            " 35  Fast food (Y/N)         2000 non-null   float64\n",
            " 36  Reg.Exercise(Y/N)       2000 non-null   int64  \n",
            " 37  BP _Systolic (mmHg)     2000 non-null   float64\n",
            " 38  BP _Diastolic (mmHg)    2000 non-null   float64\n",
            " 39  Follicle No. (L)        2000 non-null   int64  \n",
            " 40  Follicle No. (R)        2000 non-null   int64  \n",
            " 41  Avg. F size (L) (mm)    2000 non-null   float64\n",
            " 42  Avg. F size (R) (mm)    2000 non-null   float64\n",
            " 43  Endometrium (mm)        2000 non-null   float64\n",
            "dtypes: float64(21), int64(21), object(2)\n",
            "memory usage: 687.6+ KB\n"
          ]
        }
      ]
    },
    {
      "cell_type": "code",
      "source": [],
      "metadata": {
        "id": "IBd8QvATTmbt"
      },
      "execution_count": null,
      "outputs": []
    }
  ]
}